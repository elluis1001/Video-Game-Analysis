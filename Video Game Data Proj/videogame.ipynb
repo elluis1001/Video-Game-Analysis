{
 "cells": [
  {
   "cell_type": "markdown",
   "metadata": {},
   "source": [
    "# Video Game Exploratory Data Analysis"
   ]
  },
  {
   "cell_type": "code",
   "execution_count": null,
   "metadata": {},
   "outputs": [],
   "source": [
    "# Imports:\n",
    "import pandas as pd\n",
    "import numpy as np\n",
    "import matplotlib.pyplot as plt\n",
    "import seaborn as sns\n",
    "import os"
   ]
  },
  {
   "cell_type": "code",
   "execution_count": null,
   "metadata": {},
   "outputs": [],
   "source": [
    "# Read in the data set:\n",
    "df = pd.read_csv('Video Game Data Proj/Resources/games_dataset.csv')"
   ]
  },
  {
   "cell_type": "code",
   "execution_count": null,
   "metadata": {},
   "outputs": [],
   "source": [
    "# Display the first 10 rows of the DataFrame:\n",
    "df.head(10)"
   ]
  },
  {
   "cell_type": "code",
   "execution_count": null,
   "metadata": {},
   "outputs": [],
   "source": [
    "# Display a concise summary of your DataFrame\n",
    "print(\"\\nDataFrame Info:\")\n",
    "df.info()"
   ]
  },
  {
   "cell_type": "code",
   "execution_count": null,
   "metadata": {},
   "outputs": [],
   "source": [
    "# Check for missing values:\n",
    "missing_values = df.isnull().sum()\n",
    "\n",
    "# Check if there are any missing values at all\n",
    "if missing_values.sum() == 0:\n",
    "    print(\"\\nGreat! There are no missing values in the dataset.\")\n",
    "else:\n",
    "    print(\"\\nThere are missing values in the dataset. Consider handling them appropriately.\")"
   ]
  },
  {
   "cell_type": "markdown",
   "metadata": {},
   "source": [
    "# Statisics of the data:"
   ]
  },
  {
   "cell_type": "code",
   "execution_count": null,
   "metadata": {},
   "outputs": [],
   "source": [
    "# Numeric Columns:\n",
    "numeric_columns = df.select_dtypes(include=[np.number]).columns\n",
    "\n",
    "# Calculate statistics\n",
    "stats = df[numeric_columns].agg(['min', 'max', 'mean', 'median', 'std'])\n",
    "\n",
    "# Rename the columns for clarity:\n",
    "stats.index = ['Minimum', 'Maximum', 'Mean', 'Median', 'Standard Deviation']"
   ]
  },
  {
   "cell_type": "code",
   "execution_count": null,
   "metadata": {},
   "outputs": [],
   "source": [
    "# Calculation for the 'User Rating':\n",
    "if 'User Rating' in df.columns:\n",
    "    print(\"\\nStatistics for User Rating:\")\n",
    "    print(f\"Minimum: {df['User Rating'].min()}\")\n",
    "    print(f\"Maximum: {df['User Rating'].max()}\")\n",
    "    print(f\"Mean: {df['User Rating'].mean()}\")\n",
    "    print(f\"Median: {df['User Rating'].median()}\")\n",
    "    print(f\"Standard Deviation: {df['User Rating'].std()}\")"
   ]
  },
  {
   "cell_type": "code",
   "execution_count": null,
   "metadata": {},
   "outputs": [],
   "source": [
    "# Tob 5 Genre:\n",
    "genre_counts = df['Genre'].value_counts()\n",
    "top_5_genres = genre_counts.nlargest(5)\n",
    "\n",
    "print('The top 5 genres are:')\n",
    "for genre, count in top_5_genres.items():\n",
    "    print(f'{genre}: {count}')"
   ]
  },
  {
   "cell_type": "code",
   "execution_count": null,
   "metadata": {},
   "outputs": [],
   "source": [
    "# Percentage of games in each genre:\n",
    "genre_percentages = genre_counts / len(df) * 100\n",
    "print('Percentage of games in each genre:')\n",
    "for genre, percentage in genre_percentages.items():\n",
    "    print(f'{genre}: {percentage:.2f}%')"
   ]
  },
  {
   "cell_type": "code",
   "execution_count": null,
   "metadata": {},
   "outputs": [],
   "source": [
    "# Platform distribution:\n",
    "platform_counts = df['Platform'].value_counts()\n",
    "print(platform_counts)"
   ]
  },
  {
   "cell_type": "code",
   "execution_count": null,
   "metadata": {},
   "outputs": [],
   "source": [
    "# Percentage of games in each genre:\n",
    "platform_percentages = platform_counts / len(df) * 100\n",
    "print('Percentage of games in each platform:')\n",
    "for Platform, percentage in platform_percentages.items():\n",
    "    print(f'{Platform}: {percentage:.2f}%')"
   ]
  },
  {
   "cell_type": "code",
   "execution_count": null,
   "metadata": {},
   "outputs": [],
   "source": [
    "# List the oldest year value and most recen year value:\n",
    "print('Oldest and most recent year:')\n",
    "print(df['Release Year'].min())\n",
    "print(df['Release Year'].max())\n",
    "print('Description of data:')\n",
    "print(df['Release Year'].describe())"
   ]
  },
  {
   "cell_type": "markdown",
   "metadata": {},
   "source": [
    "# Graphic Representation of Video Game Sales"
   ]
  },
  {
   "cell_type": "markdown",
   "metadata": {},
   "source": [
    " Distribution of the number of games released per year:"
   ]
  },
  {
   "cell_type": "code",
   "execution_count": null,
   "metadata": {},
   "outputs": [],
   "source": [
    "# Distribution of year releases by years; 2000-2005, 2006-2010, 2011-2015, 2016-2020, 2021-2023:\n",
    "def release_year_distribution(df):\n",
    "    #Bins for year ranges:\n",
    "    bins = [2000, 2005, 2010, 2015, 2020, 2023]\n",
    "    labels = ['2000-2005', '2006-2010', '2011-2015', '2016-2020', '2021-2023']\n",
    "\n",
    "    # Create a new column with binned years and count the number of games in each bin:\n",
    "    df['year_range'] = pd.cut(df['Release Year'], bins=bins, labels=labels)\n",
    "\n",
    "    year_counts = df['year_range'].value_counts().sort_index()\n",
    "\n",
    "    # Create a bar plot:\n",
    "    plt.figure(figsize=(10, 6))\n",
    "    plt.bar(year_counts.index, year_counts.values)\n",
    "    plt.xlabel('Year Range')\n",
    "    plt.ylabel('Number of Games')\n",
    "    plt.title('Distribution of Year Releases by Years')\n",
    "    plt.xticks(rotation=45)\n",
    "    plt.tight_layout()\n",
    "    plt.show()\n",
    "    return year_counts\n",
    "\n",
    "# Convert 'Release Year' column to numeric type\n",
    "df['Release Year'] = pd.to_numeric(df['Release Year'], errors='coerce')\n",
    "\n",
    "# Drop rows with NaN values in 'Release Year' column\n",
    "df = df.dropna(subset=['Release Year'])\n",
    "\n",
    "release_year_distribution(df)"
   ]
  },
  {
   "cell_type": "markdown",
   "metadata": {},
   "source": [
    "Genre distribution of the data:"
   ]
  },
  {
   "cell_type": "code",
   "execution_count": null,
   "metadata": {},
   "outputs": [],
   "source": [
    "def genre_horizontal_bar_chart(df):\n",
    "    # Calculate genre distribution\n",
    "    genre_counts = df['Genre'].value_counts()\n",
    "    genre_percentages = df['Genre'].value_counts(normalize=True) * 100\n",
    "\n",
    "    # Create a DataFrame for the distribution\n",
    "    genre_dist = pd.DataFrame({'Count': genre_counts, 'Percentage': genre_percentages})\n",
    "    genre_dist = genre_dist.sort_values('Count', ascending=True)  # Sort ascending for horizontal bar chart\n",
    "\n",
    "    # Create the plot\n",
    "    plt.figure(figsize=(12, 10))  # Adjust the figure size as needed\n",
    "    \n",
    "    # Create horizontal bar plot\n",
    "    bars = plt.barh(genre_dist.index, genre_dist['Count'], color=sns.color_palette(\"husl\", len(genre_dist)))\n",
    "    \n",
    "    # Customize the plot\n",
    "    plt.title('Genre Distribution', fontsize=16)\n",
    "    plt.xlabel('Number of Games', fontsize=12)\n",
    "    plt.ylabel('Genre', fontsize=12)\n",
    "    \n",
    "    # Remove top and right spines\n",
    "    plt.gca().spines['top'].set_visible(False)\n",
    "    plt.gca().spines['right'].set_visible(False)\n",
    "    \n",
    "    # Add value labels to the end of each bar\n",
    "    for i, bar in enumerate(bars):\n",
    "        width = bar.get_width()\n",
    "        plt.text(width, bar.get_y() + bar.get_height()/2, f'{width} ({genre_dist[\"Percentage\"].iloc[i]:.1f}%)', \n",
    "                 ha='left', va='center', fontweight='bold')\n",
    "    \n",
    "    # Adjust layout and display the plot\n",
    "    plt.tight_layout()\n",
    "    plt.show()\n",
    "\n",
    "    # Print top 5 genres\n",
    "    print(\"Top 5 Genres:\")\n",
    "    for genre, row in genre_dist.sort_values('Count', ascending=False).head().iterrows():\n",
    "        print(f\"{genre}: {row['Count']} ({row['Percentage']:.2f}%)\")\n",
    "\n",
    "# Call the function\n",
    "genre_horizontal_bar_chart(df)"
   ]
  },
  {
   "cell_type": "markdown",
   "metadata": {},
   "source": [
    "Heatmap of average settings by genres:"
   ]
  },
  {
   "cell_type": "code",
   "execution_count": null,
   "metadata": {},
   "outputs": [],
   "source": [
    "# Heatmap of average user ratings by genre and release year:\n",
    "def genre_ratings_heatmap(df):\n",
    "    # Ensure 'Release Year' is treated as a categorical variable\n",
    "    df['Release Year'] = df['Release Year'].astype(str)\n",
    "    \n",
    "    # Group the data by genre and year, and calculate the average rating for each group\n",
    "    genre_ratings = df.groupby(['Genre', 'Release Year'])['User Rating'].mean().reset_index()\n",
    "    \n",
    "    # Pivot the data to create a matrix suitable for a heatmap\n",
    "    heatmap_data = genre_ratings.pivot(index='Genre', columns='Release Year', values='User Rating')\n",
    "    \n",
    "    # Create the plot\n",
    "    plt.figure(figsize=(16, 12))  # Adjust figure size as needed\n",
    "    \n",
    "    # Create heatmap using seaborn\n",
    "    sns.heatmap(heatmap_data, annot=True, cmap='YlGnBu', fmt='.2f', cbar_kws={'label': 'Average Rating'})\n",
    "    \n",
    "    # Set the title and axis labels\n",
    "    plt.title('Average Ratings by Genre and Year', fontsize=16)\n",
    "    plt.xlabel('Year', fontsize=12)\n",
    "    plt.ylabel('Genre', fontsize=12)\n",
    "    \n",
    "    # Rotate x-axis labels for better readability\n",
    "    plt.xticks(rotation=45, ha='right')\n",
    "    \n",
    "    # Adjust layout to prevent cutoff of labels\n",
    "    plt.tight_layout()\n",
    "    \n",
    "    # Show the plot\n",
    "    plt.show()\n",
    "    \n",
    "    # Print some additional information\n",
    "    print(\"Genres with highest average ratings:\")\n",
    "    top_genres = genre_ratings.groupby('Genre')['User Rating'].mean().sort_values(ascending=False).head()\n",
    "    print(top_genres)\n",
    "    \n",
    "    print(\"\\nYears with highest average ratings:\")\n",
    "    top_years = genre_ratings.groupby('Release Year')['User Rating'].mean().sort_values(ascending=False).head()\n",
    "    print(top_years)\n",
    "\n",
    "# Assuming df is your DataFrame\n",
    "genre_ratings_heatmap(df)"
   ]
  },
  {
   "cell_type": "markdown",
   "metadata": {},
   "source": [
    "Pie chart of platforms:"
   ]
  },
  {
   "cell_type": "code",
   "execution_count": null,
   "metadata": {},
   "outputs": [],
   "source": [
    "# Broken pie chart:\n",
    "def platform_games_analysis(df):\n",
    "    # Calculate the platform counts\n",
    "    platform_counts = df['Platform'].value_counts()\n",
    "\n",
    "    # Create a new figure with a larger size\n",
    "    plt.figure(figsize=(14, 10))\n",
    "\n",
    "    # Define a darker color palette\n",
    "    colors = plt.cm.Dark2(np.arange(len(platform_counts)) / len(platform_counts))\n",
    "    \n",
    "    # Make colors darker\n",
    "    colors = np.array([np.array(c) * 0.8 for c in colors])\n",
    "\n",
    "    # Create the pie chart\n",
    "    wedges, texts, autotexts = plt.pie(platform_counts.values, \n",
    "                                       labels=platform_counts.index, \n",
    "                                       autopct='%1.1f%%', \n",
    "                                       startangle=90, \n",
    "                                       explode=[0.05] * len(platform_counts),\n",
    "                                       colors=colors,\n",
    "                                       shadow=False)  # Add shadow for 3D effect\n",
    "\n",
    "    # Enhance the appearance of text - make labels and percentages bold\n",
    "    plt.setp(autotexts, size=10, weight=\"bold\", color=\"Black\")\n",
    "    plt.setp(texts, size=12, weight=\"bold\")  # Make wedge labels bold\n",
    "\n",
    "    # Add a title\n",
    "    plt.title('Platform Market Share', fontsize=20, fontweight='bold')\n",
    "\n",
    "    # Equal aspect ratio ensures that pie is drawn as a circle\n",
    "    plt.axis('equal')  \n",
    "\n",
    "    # Add a legend with bold text\n",
    "    legend = plt.legend(title='Platforms', loc='center left', bbox_to_anchor=(1, 0, 0.5, 1))\n",
    "    plt.setp(legend.get_title(), fontweight='bold')  # Make legend title bold\n",
    "    for text in legend.get_texts():\n",
    "        text.set_fontweight('bold')  # Make legend text bold\n",
    "\n",
    "    # Adjust layout and display the plot\n",
    "    plt.tight_layout()\n",
    "    plt.show()\n",
    "\n",
    "    # Print additional information\n",
    "    print(\"Total number of games by platform:\")\n",
    "    for platform, count in platform_counts.items():\n",
    "        print(f\"{platform}: {count} games ({count/sum(platform_counts.values):.1%})\")\n",
    "\n",
    "# Assuming df is your DataFrame\n",
    "platform_games_analysis(df)"
   ]
  },
  {
   "cell_type": "markdown",
   "metadata": {},
   "source": [
    "Stakcker Chart with platform data:"
   ]
  },
  {
   "cell_type": "code",
   "execution_count": null,
   "metadata": {},
   "outputs": [],
   "source": [
    "def create_stacked_chart(df):\n",
    "    # Create a cross-tabulation of Platform and Genre:\n",
    "    platform_genre = pd.crosstab(df['Platform'], df['Genre'])\n",
    "\n",
    "    # Create a stacked bar chart:\n",
    "    ax = platform_genre.plot(kind='bar', stacked=True, figsize=(15, 10))\n",
    "\n",
    "    # Customize the chart:\n",
    "    plt.title('Distribution of Games by Platform and Genre', fontsize=20, fontweight='bold')\n",
    "    plt.xlabel('Platform', fontsize=14, fontweight='bold')\n",
    "    plt.ylabel('Number of Games', fontsize=14, fontweight='bold')\n",
    "    \n",
    "    # Rotate x-axis labels for better readability:\n",
    "    plt.xticks(rotation=45, ha='right', fontweight='bold')\n",
    "    plt.yticks(fontweight='bold')\n",
    "\n",
    "    # Add a legend:\n",
    "    plt.legend(title='Genre', bbox_to_anchor=(1.05, 1), loc='upper left', fontsize=10)\n",
    "    plt.setp(ax.get_legend().get_title(), fontsize='14', fontweight='bold')\n",
    "\n",
    "    # Add value labels on the bars:\n",
    "    for c in ax.containers:\n",
    "        ax.bar_label(c, label_type='center', fontsize=8)\n",
    "\n",
    "    # Adjust layout and display the plot:\n",
    "    plt.tight_layout()\n",
    "    plt.show()\n",
    "\n",
    "    # Print summary statistics:\n",
    "    print(\"Total number of games by platform:\")\n",
    "    platform_totals = platform_genre.sum(axis=1).sort_values(ascending=False)\n",
    "    for platform, count in platform_totals.items():\n",
    "        print(f\"{platform}: {count} games\")\n",
    "\n",
    "    print(\"\\nTop 3 genres for each platform:\")\n",
    "    for platform in platform_genre.index:\n",
    "        top_genres = platform_genre.loc[platform].nlargest(3)\n",
    "        print(f\"\\n{platform}:\")\n",
    "        for genre, count in top_genres.items():\n",
    "            print(f\"  {genre}: {count} games\")\n",
    "\n",
    "# Assuming df is your DataFrame:\n",
    "create_stacked_chart(df)"
   ]
  },
  {
   "cell_type": "markdown",
   "metadata": {},
   "source": [
    "Stacked Bar Chart for top 3 genres  with platform by year:"
   ]
  },
  {
   "cell_type": "code",
   "execution_count": null,
   "metadata": {},
   "outputs": [],
   "source": [
    "# Stacked bar chart top 3 genre by years:\n",
    "def create_top_genres_by_year_chart(df):\n",
    "    # Group by Year and Genre, count the games\n",
    "    year_genre_counts = df.groupby(['Release Year', 'Genre']).size().unstack(fill_value=0)\n",
    "    \n",
    "    # For each year, keep only the top 3 genres\n",
    "    top_3_genres = year_genre_counts.apply(lambda x: x.nlargest(3), axis=1)\n",
    "    \n",
    "    # Fill NaN values with 0\n",
    "    top_3_genres = top_3_genres.fillna(0)\n",
    "    \n",
    "    # Sort years in ascending order\n",
    "    top_3_genres = top_3_genres.sort_index()\n",
    "\n",
    "    # Create a stacked bar chart\n",
    "    ax = top_3_genres.plot(kind='bar', stacked=True, figsize=(15, 10))\n",
    "\n",
    "    # Customize the chart\n",
    "    plt.title('Top 3 Genres by Year', fontsize=20, fontweight='bold')\n",
    "    plt.xlabel('Release Year', fontsize=14, fontweight='bold')\n",
    "    plt.ylabel('Number of Games', fontsize=14, fontweight='bold')\n",
    "    \n",
    "    # Rotate x-axis labels for better readability\n",
    "    plt.xticks(rotation=45, ha='right', fontweight='bold')\n",
    "    plt.yticks(fontweight='bold')\n",
    "\n",
    "    # Add a legend\n",
    "    plt.legend(title='Genre', bbox_to_anchor=(1.05, 1), loc='upper left', fontsize=10)\n",
    "    plt.setp(ax.get_legend().get_title(), fontsize='14', fontweight='bold')\n",
    "\n",
    "    # Add value labels on the bars\n",
    "    for c in ax.containers:\n",
    "        ax.bar_label(c, label_type='center', fontsize=8)\n",
    "\n",
    "    # Adjust layout and display the plot\n",
    "    plt.tight_layout()\n",
    "    plt.show()\n",
    "\n",
    "    # Print summary statistics\n",
    "    print(\"Top 3 genres for each year:\")\n",
    "    for year in top_3_genres.index:\n",
    "        top_genres = top_3_genres.loc[year].nlargest(3)\n",
    "        print(f\"\\n{year}:\")\n",
    "        for genre, count in top_genres.items():\n",
    "            if count > 0:  # Only print if there are games in this genre\n",
    "                print(f\"  {genre}: {count} games\")\n",
    "\n",
    "# Assuming df is your DataFrame\n",
    "create_top_genres_by_year_chart(df)\n"
   ]
  },
  {
   "cell_type": "markdown",
   "metadata": {},
   "source": [
    "Bubble Charts:"
   ]
  },
  {
   "cell_type": "code",
   "execution_count": null,
   "metadata": {},
   "outputs": [],
   "source": [
    "def top_5_genres_performance_over_time(df):\n",
    "    # Calculate overall average rating for each genre\n",
    "    overall_avg = df.groupby('Genre')['User Rating'].mean().sort_values(ascending=False)\n",
    "    \n",
    "    # Select top 5 genres\n",
    "    top_5_genres = overall_avg.head(5).index.tolist()\n",
    "\n",
    "    # Filter the dataframe for top 5 genres\n",
    "    df_top_5 = df[df['Genre'].isin(top_5_genres)]\n",
    "\n",
    "    # Group by Year and Genre, calculate average rating\n",
    "    genre_performance = df_top_5.groupby(['Release Year', 'Genre'])['User Rating'].mean().unstack()\n",
    "\n",
    "    # Create the line plot\n",
    "    plt.figure(figsize=(16, 10))\n",
    "    \n",
    "    # Set a color palette\n",
    "    colors = sns.color_palette(\"husl\", n_colors=5)\n",
    "    \n",
    "    # Plot each genre\n",
    "    for i, genre in enumerate(top_5_genres):\n",
    "        plt.plot(genre_performance.index, genre_performance[genre], marker='o', label=genre, linewidth=2, color=colors[i])\n",
    "\n",
    "    # Customize the chart\n",
    "    plt.title('Top 5 Genres Performance Over Time', fontsize=20, fontweight='bold')\n",
    "    plt.xlabel('Release Year', fontsize=14, fontweight='bold')\n",
    "    plt.ylabel('Average User Rating', fontsize=14, fontweight='bold')\n",
    "    \n",
    "    plt.legend(title='Genre', bbox_to_anchor=(1.05, 1), loc='upper left', fontsize=12)\n",
    "    plt.grid(True, linestyle='--', alpha=0.7)\n",
    "    \n",
    "    # Set y-axis to start from 0\n",
    "    plt.ylim(bottom=3)\n",
    "    \n",
    "    plt.tight_layout()\n",
    "    plt.show()\n",
    "\n",
    "    # Print summary statistics\n",
    "    print(\"Top 5 genres by overall average rating:\")\n",
    "    for genre, avg_rating in overall_avg.head().items():\n",
    "        print(f\"{genre}: {avg_rating:.2f}\")\n",
    "\n",
    "    print(\"\\nPerformance change for top 5 genres (comparing first and last year):\")\n",
    "    first_year = genre_performance.index.min()\n",
    "    last_year = genre_performance.index.max()\n",
    "    improvement = genre_performance.loc[last_year] - genre_performance.loc[first_year]\n",
    "    for genre in top_5_genres:\n",
    "        change = improvement[genre]\n",
    "        print(f\"{genre}: {change:.2f} change in rating\")\n",
    "\n",
    "# Assuming df is your DataFrame\n",
    "top_5_genres_performance_over_time(df)"
   ]
  },
  {
   "cell_type": "code",
   "execution_count": null,
   "metadata": {},
   "outputs": [],
   "source": []
  }
 ],
 "metadata": {
  "kernelspec": {
   "display_name": "dev",
   "language": "python",
   "name": "python3"
  },
  "language_info": {
   "codemirror_mode": {
    "name": "ipython",
    "version": 3
   },
   "file_extension": ".py",
   "mimetype": "text/x-python",
   "name": "python",
   "nbconvert_exporter": "python",
   "pygments_lexer": "ipython3",
   "version": "3.10.13"
  }
 },
 "nbformat": 4,
 "nbformat_minor": 2
}
